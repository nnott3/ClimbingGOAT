{
 "cells": [
  {
   "cell_type": "code",
   "execution_count": 6,
   "id": "f1d9216d",
   "metadata": {},
   "outputs": [
    {
     "name": "stdout",
     "output_type": "stream",
     "text": [
      "Requirement already satisfied: pandas in ./.venv/lib/python3.12/site-packages (from -r requirements.txt (line 1)) (2.3.2)\n",
      "Collecting requests (from -r requirements.txt (line 2))\n",
      "  Using cached requests-2.32.5-py3-none-any.whl.metadata (4.9 kB)\n",
      "Requirement already satisfied: numpy>=1.26.0 in ./.venv/lib/python3.12/site-packages (from pandas->-r requirements.txt (line 1)) (2.3.2)\n",
      "Requirement already satisfied: python-dateutil>=2.8.2 in ./.venv/lib/python3.12/site-packages (from pandas->-r requirements.txt (line 1)) (2.9.0.post0)\n",
      "Requirement already satisfied: pytz>=2020.1 in ./.venv/lib/python3.12/site-packages (from pandas->-r requirements.txt (line 1)) (2025.2)\n",
      "Requirement already satisfied: tzdata>=2022.7 in ./.venv/lib/python3.12/site-packages (from pandas->-r requirements.txt (line 1)) (2025.2)\n",
      "Collecting charset_normalizer<4,>=2 (from requests->-r requirements.txt (line 2))\n",
      "  Using cached charset_normalizer-3.4.3-cp312-cp312-macosx_10_13_universal2.whl.metadata (36 kB)\n",
      "Collecting idna<4,>=2.5 (from requests->-r requirements.txt (line 2))\n",
      "  Using cached idna-3.10-py3-none-any.whl.metadata (10 kB)\n",
      "Collecting urllib3<3,>=1.21.1 (from requests->-r requirements.txt (line 2))\n",
      "  Using cached urllib3-2.5.0-py3-none-any.whl.metadata (6.5 kB)\n",
      "Collecting certifi>=2017.4.17 (from requests->-r requirements.txt (line 2))\n",
      "  Using cached certifi-2025.8.3-py3-none-any.whl.metadata (2.4 kB)\n",
      "Requirement already satisfied: six>=1.5 in ./.venv/lib/python3.12/site-packages (from python-dateutil>=2.8.2->pandas->-r requirements.txt (line 1)) (1.17.0)\n",
      "Using cached requests-2.32.5-py3-none-any.whl (64 kB)\n",
      "Using cached certifi-2025.8.3-py3-none-any.whl (161 kB)\n",
      "Using cached charset_normalizer-3.4.3-cp312-cp312-macosx_10_13_universal2.whl (205 kB)\n",
      "Using cached idna-3.10-py3-none-any.whl (70 kB)\n",
      "Using cached urllib3-2.5.0-py3-none-any.whl (129 kB)\n",
      "Installing collected packages: urllib3, idna, charset_normalizer, certifi, requests\n",
      "Successfully installed certifi-2025.8.3 charset_normalizer-3.4.3 idna-3.10 requests-2.32.5 urllib3-2.5.0\n",
      "\n",
      "\u001b[1m[\u001b[0m\u001b[34;49mnotice\u001b[0m\u001b[1;39;49m]\u001b[0m\u001b[39;49m A new release of pip is available: \u001b[0m\u001b[31;49m23.3.1\u001b[0m\u001b[39;49m -> \u001b[0m\u001b[32;49m25.2\u001b[0m\n",
      "\u001b[1m[\u001b[0m\u001b[34;49mnotice\u001b[0m\u001b[1;39;49m]\u001b[0m\u001b[39;49m To update, run: \u001b[0m\u001b[32;49mpip install --upgrade pip\u001b[0m\n"
     ]
    }
   ],
   "source": [
    "!pip install -r requirements.txt"
   ]
  },
  {
   "cell_type": "code",
   "execution_count": 36,
   "id": "c2e799e4",
   "metadata": {},
   "outputs": [
    {
     "name": "stdout",
     "output_type": "stream",
     "text": [
      "https://ifsc.results.info/api/v1/info\n",
      "dict_keys(['logo_url', 'logo_link', 'federation'])\n"
     ]
    }
   ],
   "source": [
    "import os\n",
    "import requests\n",
    "import pandas as pd\n",
    "import re\n",
    "import brotli\n",
    "import json\n",
    "\n",
    "\n",
    "###############################################\n",
    "############### GET_ALL_YEARS #################\n",
    "\n",
    "# ---------- HEADERS ----------\n",
    "HEADERS = {\n",
    "    \"accept\": \"application/json\",\n",
    "    \"accept-encoding\": \"gzip, deflate, br, zstd\",\n",
    "    \"accept-language\": \"en-US,en;q=0.9\",\n",
    "    \"dnt\": \"1\",\n",
    "    \"priority\": \"u=1, i\",\n",
    "    \"referer\": \"https://ifsc.results.info/event/1442/\",\n",
    "    \"sec-ch-ua\": '\"Chromium\";v=\"139\", \"Not;A=Brand\";v=\"99\"',\n",
    "    \"sec-ch-ua-mobile\": \"?0\",\n",
    "    \"sec-ch-ua-platform\": '\"macOS\"',\n",
    "    \"sec-fetch-dest\": \"empty\",\n",
    "    \"sec-fetch-mode\": \"cors\",\n",
    "    \"sec-fetch-site\": \"same-origin\",\n",
    "    \"user-agent\": (\n",
    "        \"Mozilla/5.0 (Macintosh; Intel Mac OS X 10_15_7) \"\n",
    "        \"AppleWebKit/537.36 (KHTML, like Gecko) \"\n",
    "        \"Chrome/139.0.0.0 Safari/537.36\"\n",
    "    ),\n",
    "    \"x-csrf-token\": \"ARqeGlAj3ZQZxLJKwKbeXcPdnp4Jj6cBbXQZ9dJdhXklQVDJDhr9f0Ro9PbNQTUiZoakGPC0Sq3BH-zF2EVluQ\",\n",
    "}\n",
    "\n",
    "# ---------- COOKIES ----------\n",
    "COOKIES_STRING = (\n",
    "    \"_ga=GA1.2.730144941.1748434369; _verticallife_resultservice_session=aPUXmlTgFQfglpASE1pDEtGUO5KKhUigQqQGpOgiE5h2W1eRjWuAD95thCgJaTVMqZoeJIH7M%2BrgIn9DuqMkUkeP4nnvxrdjIjCJOm2DJ9QDTRn1LQIu8TBzTTyEQa%2BrL4RiCQPMTDOfcW5peS10oNG%2BXp%2F3RrhUy6dTrw%2FKABsdZzmmAYx4tJM8R%2BZJqnDPL9rVNEQhoEX9PzG1FoCcJgz4HQK59yJVtd8DR1MascKHy2etGoruWbB1%2Bv9jmXag2cwOkvqSxkixq%2BJHL7%2F0Md8coEWVvhpoi0Vwz%2FcD4llWqLL7FuQVTmoT6w%3D%3D--EeDuSer%2F54c0V9xb--9sfg9uHTw1RE%2Fa0pKUwyEQ%3D%3D; _gid=GA1.2.565234169.1756491233; _gat_UA-157153964-4=1; _ga_3CW645GZWB=GS2.2.s1756491233$o1$g0$t1756491233$j60$l0$h0\"\n",
    ")\n",
    "\n",
    "COOKIES = {key: value for part in COOKIES_STRING.split(\"; \") if \"=\" in part for key, value in [part.split(\"=\", 1)]}\n",
    "\n",
    "# ---------- API HELPER ----------\n",
    "BASE_API = \"https://ifsc.results.info/api/v1/\"\n",
    "\n",
    "def get_api_data(endpoint: str) -> dict:\n",
    "    \"\"\"\n",
    "    Fetch and decode JSON data from an IFSC API endpoint, handling Brotli compression.\n",
    "    If endpoint is relative (e.g., '/seasons'), it is joined with BASE_API.\n",
    "    \"\"\"\n",
    "    url = endpoint if endpoint.startswith(\"http\") else BASE_API + endpoint.lstrip(\"/\")\n",
    "    print(url)\n",
    "    response = requests.get(url, headers=HEADERS, cookies=COOKIES)\n",
    "\n",
    "    # Raise an exception for HTTP errors (4xx or 5xx)\n",
    "    response.raise_for_status()\n",
    "\n",
    "    # Check for Brotli compression and decompress if necessary\n",
    "    if response.headers.get('Content-Encoding') == 'br':\n",
    "        try:\n",
    "            # Decompress the content before attempting to decode as JSON\n",
    "            decompressed_content = brotli.decompress(response.content)\n",
    "            # The decompressed content is bytes, so we need to decode it to a string\n",
    "            json_text = decompressed_content.decode('utf-8')\n",
    "        \n",
    "        except UnicodeDecodeError as e:\n",
    "            print(f\"Unicode decode error: {e}\")\n",
    "            return {}\n",
    "    else:\n",
    "        # If not Brotli, use the standard response text\n",
    "        json_text = response.text\n",
    "\n",
    "\n",
    "    try:\n",
    "        # Attempt to parse the JSON text\n",
    "        return json.loads(json_text)\n",
    "    except json.JSONDecodeError as err:\n",
    "        print(f\"JSON Decode Error: {err} from URL: {url}\")\n",
    "        print(\"Response text was:\", json_text)\n",
    "        return {}\n",
    "\n",
    "\n",
    "\n",
    "def get_worldcup_leagues(season_api=\"/api/v1/\"):\n",
    "    seasons = get_api_data(season_api)['seasons']\n",
    "    results = []\n",
    "    for s in seasons:\n",
    "        year = s['name']\n",
    "        for league in s['leagues']:\n",
    "\n",
    "            if 'World Cups' in league['name'] and 'Youth' not in league['name']:\n",
    "                results.append({\n",
    "                    \"year\": int(year),\n",
    "                    \"league_name\": league['name'],\n",
    "                    \"url\": league['url']\n",
    "                    })\n",
    "    return pd.DataFrame(results)\n",
    "\n",
    "if __name__ == \"__main__\":\n",
    "    # You might need to install the brotli library: pip install brotli\n",
    "    data = get_api_data(\"info\")\n",
    "    print(data.keys())\n",
    "    "
   ]
  },
  {
   "cell_type": "code",
   "execution_count": 29,
   "id": "b7ba85e3",
   "metadata": {},
   "outputs": [
    {
     "name": "stdout",
     "output_type": "stream",
     "text": [
      "{'id': 10236, 'event': 'IFSC Youth European Championships Žilina 2025', 'event_id': 1442, 'dcat_id': 818, 'discipline': 'Lead', 'status': 'active', 'status_as_of': '2025-08-29 16:27:58 UTC', 'category': 'U21 Women', 'round': 'Semi-Final', 'format': 'IFSC: 1 route', 'routes': [{'id': 17294, 'name': '1', 'startlist': '/api/v1/routes/17294/startlist', 'ranking': '/api/v1/routes/17294/results'}], 'startlist': [{'athlete_id': 13001, 'route_start_positions': [{'route_name': '1', 'route_id': 17294, 'position': 1}], 'name': 'EL Zeli̇ha', 'firstname': 'Zeli̇ha', 'lastname': 'EL', 'bib': '464', 'country': 'TUR', 'flag_url': 'https://d1n1qj9geboqnb.cloudfront.net/flags/TUR.png', 'federation_id': 62}, {'athlete_id': 12331, 'route_start_positions': [{'route_name': '1', 'route_id': 17294, 'position': 2}], 'name': 'BERNARDOVA Barbora', 'firstname': 'Barbora', 'lastname': 'BERNARDOVA', 'bib': '318', 'country': 'CZE', 'flag_url': 'https://d1n1qj9geboqnb.cloudfront.net/flags/CZE.png', 'federation_id': 17}, {'athlete_id': 14227, 'route_start_positions': [{'route_name': '1', 'route_id': 17294, 'position': 3}], 'name': 'RAFFERTY Amy', 'firstname': 'Amy', 'lastname': 'RAFFERTY', 'bib': '383', 'country': 'IRL', 'flag_url': 'https://d1n1qj9geboqnb.cloudfront.net/flags/IRL.png', 'federation_id': 30}, {'athlete_id': 12248, 'route_start_positions': [{'route_name': '1', 'route_id': 17294, 'position': 4}], 'name': 'WITTE Noor', 'firstname': 'Noor', 'lastname': 'WITTE', 'bib': '413', 'country': 'NED', 'flag_url': 'https://d1n1qj9geboqnb.cloudfront.net/flags/NED.png', 'federation_id': 50}, {'athlete_id': 12636, 'route_start_positions': [{'route_name': '1', 'route_id': 17294, 'position': 5}], 'name': 'ŠIMEKOVÁ Sára', 'firstname': 'Sára', 'lastname': 'ŠIMEKOVÁ', 'bib': '458', 'country': 'SVK', 'flag_url': 'https://d1n1qj9geboqnb.cloudfront.net/flags/SVK.png', 'federation_id': 34}, {'athlete_id': 13459, 'route_start_positions': [{'route_name': '1', 'route_id': 17294, 'position': 6}], 'name': 'EDGINGTON Isabella', 'firstname': 'Isabella', 'lastname': 'EDGINGTON', 'bib': '357', 'country': 'GBR', 'flag_url': 'https://d1n1qj9geboqnb.cloudfront.net/flags/GBR.png', 'federation_id': 11}, {'athlete_id': 12364, 'route_start_positions': [{'route_name': '1', 'route_id': 17294, 'position': 7}], 'name': 'BURCZYK Barbara', 'firstname': 'Barbara', 'lastname': 'BURCZYK', 'bib': '426', 'country': 'POL', 'flag_url': 'https://d1n1qj9geboqnb.cloudfront.net/flags/POL.png', 'federation_id': 36}, {'athlete_id': 11561, 'route_start_positions': [{'route_name': '1', 'route_id': 17294, 'position': 8}], 'name': 'KERR Hannah', 'firstname': 'Hannah', 'lastname': 'KERR', 'bib': '359', 'country': 'GBR', 'flag_url': 'https://d1n1qj9geboqnb.cloudfront.net/flags/GBR.png', 'federation_id': 11}, {'athlete_id': 12233, 'route_start_positions': [{'route_name': '1', 'route_id': 17294, 'position': 9}], 'name': 'HMAIMOU Anya', 'firstname': 'Anya', 'lastname': 'HMAIMOU', 'bib': '358', 'country': 'GBR', 'flag_url': 'https://d1n1qj9geboqnb.cloudfront.net/flags/GBR.png', 'federation_id': 11}, {'athlete_id': 11555, 'route_start_positions': [{'route_name': '1', 'route_id': 17294, 'position': 10}], 'name': 'KOMPEIN Magdalena', 'firstname': 'Magdalena', 'lastname': 'KOMPEIN', 'bib': '303', 'country': 'AUT', 'flag_url': 'https://d1n1qj9geboqnb.cloudfront.net/flags/AUT.png', 'federation_id': 16}, {'athlete_id': 11690, 'route_start_positions': [{'route_name': '1', 'route_id': 17294, 'position': 11}], 'name': 'BERNARDINI Giulia', 'firstname': 'Giulia', 'lastname': 'BERNARDINI', 'bib': '401', 'country': 'ITA', 'flag_url': 'https://d1n1qj9geboqnb.cloudfront.net/flags/ITA.png', 'federation_id': 13}, {'athlete_id': 12682, 'route_start_positions': [{'route_name': '1', 'route_id': 17294, 'position': 12}], 'name': 'ZRINSKI Karla', 'firstname': 'Karla', 'lastname': 'ZRINSKI', 'bib': '314', 'country': 'CRO', 'flag_url': 'https://d1n1qj9geboqnb.cloudfront.net/flags/CRO.png', 'federation_id': 98}, {'athlete_id': 12777, 'route_start_positions': [{'route_name': '1', 'route_id': 17294, 'position': 13}], 'name': 'SCHWAIGER Ines', 'firstname': 'Ines', 'lastname': 'SCHWAIGER', 'bib': '306', 'country': 'AUT', 'flag_url': 'https://d1n1qj9geboqnb.cloudfront.net/flags/AUT.png', 'federation_id': 16}, {'athlete_id': 12604, 'route_start_positions': [{'route_name': '1', 'route_id': 17294, 'position': 14}], 'name': 'GUTTENBERGER Mia', 'firstname': 'Mia', 'lastname': 'GUTTENBERGER', 'bib': '370', 'country': 'GER', 'flag_url': 'https://d1n1qj9geboqnb.cloudfront.net/flags/GER.png', 'federation_id': 6}, {'athlete_id': 12835, 'route_start_positions': [{'route_name': '1', 'route_id': 17294, 'position': 15}], 'name': 'ARNOLDI Valentina', 'firstname': 'Valentina', 'lastname': 'ARNOLDI', 'bib': '402', 'country': 'ITA', 'flag_url': 'https://d1n1qj9geboqnb.cloudfront.net/flags/ITA.png', 'federation_id': 13}, {'athlete_id': 12222, 'route_start_positions': [{'route_name': '1', 'route_id': 17294, 'position': 16}], 'name': 'LOOSER Noé', 'firstname': 'Noé', 'lastname': 'LOOSER', 'bib': '451', 'country': 'SUI', 'flag_url': 'https://d1n1qj9geboqnb.cloudfront.net/flags/SUI.png', 'federation_id': 8}, {'athlete_id': 12519, 'route_start_positions': [{'route_name': '1', 'route_id': 17294, 'position': 17}], 'name': 'HOFER Leonie', 'firstname': 'Leonie', 'lastname': 'HOFER', 'bib': '400', 'country': 'ITA', 'flag_url': 'https://d1n1qj9geboqnb.cloudfront.net/flags/ITA.png', 'federation_id': 13}, {'athlete_id': 8092, 'route_start_positions': [{'route_name': '1', 'route_id': 17294, 'position': 18}], 'name': 'MLAKAR STARIC Zala', 'firstname': 'Zala', 'lastname': 'MLAKAR STARIC', 'bib': '442', 'country': 'SLO', 'flag_url': 'https://d1n1qj9geboqnb.cloudfront.net/flags/SLO.png', 'federation_id': 15}, {'athlete_id': 12330, 'route_start_positions': [{'route_name': '1', 'route_id': 17294, 'position': 19}], 'name': 'JURCENKO Arina', 'firstname': 'Arina', 'lastname': 'JURCENKO', 'bib': '324', 'country': 'CZE', 'flag_url': 'https://d1n1qj9geboqnb.cloudfront.net/flags/CZE.png', 'federation_id': 17}, {'athlete_id': 12477, 'route_start_positions': [{'route_name': '1', 'route_id': 17294, 'position': 20}], 'name': 'BONNAL Lana', 'firstname': 'Lana', 'lastname': 'BONNAL', 'bib': '345', 'country': 'FRA', 'flag_url': 'https://d1n1qj9geboqnb.cloudfront.net/flags/FRA.png', 'federation_id': 10}, {'athlete_id': 12348, 'route_start_positions': [{'route_name': '1', 'route_id': 17294, 'position': 21}], 'name': 'BURŠÍKOVÁ Martina', 'firstname': 'Martina', 'lastname': 'BURŠÍKOVÁ', 'bib': '457', 'country': 'SVK', 'flag_url': 'https://d1n1qj9geboqnb.cloudfront.net/flags/SVK.png', 'federation_id': 34}, {'athlete_id': 16889, 'route_start_positions': [{'route_name': '1', 'route_id': 17294, 'position': 22}], 'name': 'WITT Ronja Marlene', 'firstname': 'Ronja Marlene', 'lastname': 'WITT', 'bib': '371', 'country': 'GER', 'flag_url': 'https://d1n1qj9geboqnb.cloudfront.net/flags/GER.png', 'federation_id': 6}, {'athlete_id': 12562, 'route_start_positions': [{'route_name': '1', 'route_id': 17294, 'position': 23}], 'name': 'KOBETS Anastasiia', 'firstname': 'Anastasiia', 'lastname': 'KOBETS', 'bib': '469', 'country': 'UKR', 'flag_url': 'https://d1n1qj9geboqnb.cloudfront.net/flags/UKR.png', 'federation_id': 18}, {'athlete_id': 11464, 'route_start_positions': [{'route_name': '1', 'route_id': 17294, 'position': 24}], 'name': 'TOTKOVA Aleksandra', 'firstname': 'Aleksandra', 'lastname': 'TOTKOVA', 'bib': '308', 'country': 'BUL', 'flag_url': 'https://d1n1qj9geboqnb.cloudfront.net/flags/BUL.png', 'federation_id': 26}]}\n"
     ]
    }
   ],
   "source": [
    "import brotli\n",
    "\n",
    "try:\n",
    "    # Decompress the brotli content\n",
    "    decompressed_content = brotli.decompress(response.content)\n",
    "    # Decode the bytes to a string\n",
    "    json_string = decompressed_content.decode('utf-8')\n",
    "    # Parse the JSON string\n",
    "    data = json.loads(json_string)\n",
    "    print(data)\n",
    "except brotli.error as e:\n",
    "    print(f\"Not brotli-compressed content: {e}\")"
   ]
  },
  {
   "cell_type": "code",
   "execution_count": null,
   "id": "6aa2aee8",
   "metadata": {},
   "outputs": [],
   "source": []
  }
 ],
 "metadata": {
  "kernelspec": {
   "display_name": ".venv (3.12.1)",
   "language": "python",
   "name": "python3"
  },
  "language_info": {
   "codemirror_mode": {
    "name": "ipython",
    "version": 3
   },
   "file_extension": ".py",
   "mimetype": "text/x-python",
   "name": "python",
   "nbconvert_exporter": "python",
   "pygments_lexer": "ipython3",
   "version": "3.12.1"
  }
 },
 "nbformat": 4,
 "nbformat_minor": 5
}
